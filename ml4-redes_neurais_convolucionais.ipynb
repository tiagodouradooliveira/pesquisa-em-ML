{
  "nbformat": 4,
  "nbformat_minor": 0,
  "metadata": {
    "colab": {
      "provenance": []
    },
    "kernelspec": {
      "name": "python3",
      "display_name": "Python 3"
    },
    "language_info": {
      "name": "python"
    }
  },
  "cells": [
    {
      "cell_type": "markdown",
      "source": [
        "##Setup"
      ],
      "metadata": {
        "id": "05RC7fruvYA1"
      }
    },
    {
      "cell_type": "code",
      "execution_count": 1,
      "metadata": {
        "id": "lAb77ngAvEgB"
      },
      "outputs": [],
      "source": [
        "import numpy as np\n",
        "import matplotlib.pyplot as plt\n",
        "%matplotlib inline\n",
        "\n",
        "import torch\n",
        "import torchvision\n",
        "import torchvision.transforms as transforms\n",
        "import torch.nn as nn\n",
        "import torch.nn.functional as F\n",
        "import torch.optim as optim"
      ]
    },
    {
      "cell_type": "markdown",
      "source": [
        "##Tópico estudado das notas *CS231n Convolutional Neural Networks for Visual Recognition*:\n",
        "\n",
        "*   Convolutional Neural Networks: Architectures, Convolution / Pooling Layers"
      ],
      "metadata": {
        "id": "uEtRzpDxvgqw"
      }
    },
    {
      "cell_type": "markdown",
      "source": [
        "##1. Arquitetura de *redes neurais convolucionais* (*CNNs*)\n",
        "\n",
        "Redes neurais convolucionais, assim como as convencionais, possuem pesos, vieses, funções de ativação (como a sigmoide) e funções de custo. Porém, uma suposição que é feita para CNNs é a de que a entrada é sempre uma imagem, o que nos permite trabalhar com boas propriedades desse tipo de entrada. É importante pontuar que as NNs convencionais não têm escalabilidade com imagens, o contrário do que acontece com as CNNs.\n",
        "\n",
        "As CNNs usam a propriedade de que imagens podem ser representadas tridimensionalmente (com largura, altura e número de canais, como o padrão RGB, com $3$ canais) e, assim, suas camadas (chamadas de volumes) possuem $3$ dimensões também: largura, altura e profundidade. Uma CNN, assim como uma NN, é uma sequência de camadas que transformam um volume de ativações em outra. Há três camadas principais: camada convolucional, camada de pooling e, a mesma das NNs, camada totalmente conectada. Um exemplo de arquitetura de CNN é [ENTRADA - CONV - ATIV - POOL - CONECT], explicadas a seguir:\n",
        "* ENTRADA [$32\\times32\\times3$] é a camada dos valores da imagem para cada pixel. Usaremos um modelo de imagem com largura $32$, altura $32$ e com $3$ canais de cor RGB como exemplo;\n",
        "* CONV computa a saída dos neurônios que estão conectados a regiões da entrada, cada um fazendo o produto interno entre seus pesos e uma região pequena de valores do volume de entrada. A saída poderia ser um volume [$32\\times32\\times12$], se usarmos $12$ filtros (explicados em breve);\n",
        "* ATIV aplica uma função de ativação para cada valor do volume, como a sigmoide ou ReLU. O tamanho do volume de saída seria o mesmo;\n",
        "* POOL diminui o volume pelas dimensões espaciais (largura e volume). O volume de saída poderia ficar [$16\\times16\\times12$];\n",
        "* CONECT computa (nesse contexto) as pontuações de classe (como as pontuações de dígitos no dataset MNIST), resultando num volume de saída de tamanho [$1\\times1\\times10$]. Cada neurônio dessa camada fica conectado a todos as outras unidades do volume anterior.\n",
        "\n",
        "Algumas camadas não possuem parâmetros (pesos e vieses), como as camadas ATIV e POOL (que simplesmente aplicam uma função fixa de ativação e *downsampling*, respectivamente), mas o restante possui, como as camadas CONV e CONECT, que permitem um treinamento com gradiente descendente."
      ],
      "metadata": {
        "id": "lDTS51a_v33I"
      }
    },
    {
      "cell_type": "markdown",
      "source": [
        "##2. Descrição das camadas convolucional e de pooling das CNNs"
      ],
      "metadata": {
        "id": "6xmqlpTlwH_R"
      }
    },
    {
      "cell_type": "markdown",
      "source": [
        "###2.1. Camada convolucional\n",
        "\n",
        "A camada convolucional possui um conjunto de filtros que podem ser aprendidos, e cada filtro é pequeno em espaço (como [$5\\times5\\times3$]), mas cobre toda a profundidade do volume de entrada. Durante a etapa de feedforward, é realizada a convolução ou \"deslizamento\" de cada filtro pela largura e altura do volume de entrada, e essa operação consiste na realização do produto interno entre cada região de entrada em \"deslizamento\" e os valores do filtro. Isso produz uma matriz bidimensional com as saídas do filtro a cada posição. A CNN consegue aprender os filtros que ativam quando há um aspecto visual na imagem, como uma borda, agrupamento ou padrão de valores de entrada. Cada filtro produz uma matriz separada. O empilhamento dessas matrizes pela dimensão de profundidade gera o volume de saída.\n",
        "\n",
        "Uma outra característica importante dessa camada é a conectividade local. Entradas com tamanhos grandes atrapalham na eficiência de NNs, como acontece com imagens. As CNNs utilizam um hiperparâmetro chamado de *campo receptivo*, que é o tamanho dos filtros, responsável pela escalabilidade dessas redes com tamanhos de entrada grandes. Nesse contexto, a profundidade dos filtros é sempre igual à profundidade das entradas. No exemplo citado, cada filtro ficará conectada a uma região de tamanho [$5\\times5\\times3$] do volume de entrada, o que resulta em um total de $5\\times5\\times3=75$ pesos e um viés. Além do tamanho do filtro, há também os hiperparâmetros *profundidade*, *stride* e *zero-padding*. O hiperparâmetro profundidade essencialmente controla o número de filtros que serão utilizados; uma *coluna de profundidade* ou fibra corresponde a um conjunto de neurônios (ou todos os filtros) que estão conectados à mesma região pequena da entrada. O stride controla o tamanho dos \"pulos\" que damos com os filtros conforme realizamos as convoluções; se o stride for $1$, movemos os filtros um pixel de cada vez, e se o stride for $2$, pulamos um pixel de modo a mover os filtros dois pixels de cada vez (o que gera uma saída de tamanho espacial menor), por exemplo. O zero-padding consiste na inserção de $0$ na borda da imagem, e o número desse hiperparâmetro controla o tamanho  dessa borda especial de valores iguais a $0$.\n",
        "\n",
        "O tamanho espacial do volume de saída nesse caso pode ser obtido através da fórmula\n",
        "\\begin{align*}\n",
        "\\frac{W-F+2P}{S}+1,\n",
        "\\end{align*}\n",
        "em que $W$ corresponde ao tamanho do volume de entrada, $F$ ao campo receptivo, $S$ ao stride e $P$ o tamanho do zero-padding. O valor de resultado da fórmula deve ser um número inteiro para o correto funcionamento da CNN. Nesse contexto, o zero-padding é especialmente útil pois conseguimos controlar o tamanho do volume de saída de forma mais flexível (normalmente, $F$ e $S$ não podem ser grandes demais), prevenindo o problema citado.\n",
        "\n",
        "Um outro aspecto da camada que garante uma melhor eficiência é o compartilhamento de parâmetros: uma forma de reduzir o número de pesos é supor que, para a mesma \"fatia\" de profundidade (ou seja, para um mesmo filtro), é bom utilizar o mesmo conjunto de parâmetros, já que uma aquisição de característica da imagem (uma convolução com um filtro) em uma região é útil de computar também para outras regiões. Na etapa de backpropagation, o gradiente é computado para todo neurônio, mas os gradientes serão usados para atualizar um só conjunto de pesos por fatia. Como é possível realizar a convolução (daí o nome da camada) dos pesos dos neurônios com o volume de entrada por esse esquema, chamamos os conjuntos de pesos de filtros ou *kernels*. Às vezes é relevante abandonar essa suposição, como quando as entradas são imagens de rostos, com características mais específicas para cada região (como formatos de nariz e boca no centro das imagens ou cabelo perto das bordas), e nesse caso chamamos a camada de *camada localmente conectada*."
      ],
      "metadata": {
        "id": "Qj-gQCg7Pv8L"
      }
    },
    {
      "cell_type": "markdown",
      "source": [
        "###2.2. Camada de pooling\n",
        "\n",
        "Camadas de pooling servem para diminuir o tamanho espacial do volume de entrada e são normalmente usadas entre camadas convolucionais sucessivas. Isso promove uma maior eficiência de computação e um maior controle de overfitting. Para fazer isso, a camada comumente aplica uma função de máximo em cada fatia de profundidade do volume de entrada independemente. A operação de máximo num exemplo com tamanho de filtro $F=2$ e stride $S=2$ (também são hiperparâmetros aqui) seleciona o máximo valor de uma região $2\\times2$ a cada $2$ pixels. O volume de saída consiste em uma largura igual a $\\frac{W-F}{S}+1$, altura igual a $\\frac{H-F}{S}+1$ e profundidade igual a $D$, em que $W$ é a largura da entrada, $H$ a altura e $D$ a profundidade. Na etapa de backpropagation, o gradiente da operação de máximo corresponde à entrada com o maior valor na etapa de feedforward. Por esse motivo, na etapa de feedforward é comum registrar o índice da ativação máxima para que o algoritmo de backpropagation fique mais eficiente para CNNs."
      ],
      "metadata": {
        "id": "k8SKxu3Zk_jd"
      }
    },
    {
      "cell_type": "markdown",
      "source": [
        "Uma implementação de CNN em PyTorch para o dataset CIFAR10 com 10 classes segue abaixo."
      ],
      "metadata": {
        "id": "7ANI0oQPpszh"
      }
    },
    {
      "cell_type": "code",
      "source": [
        "# Extraído do próprio tutorial do PyTorch (https://pytorch.org/tutorials/beginner/blitz/cifar10_tutorial.html)\n",
        "\n",
        "transform = transforms.Compose(\n",
        "    [transforms.ToTensor(),\n",
        "     transforms.Normalize((0.5, 0.5, 0.5), (0.5, 0.5, 0.5))])\n",
        "\n",
        "batch_size = 4\n",
        "\n",
        "trainset = torchvision.datasets.CIFAR10(root='./data', train=True,\n",
        "                                        download=True, transform=transform)\n",
        "trainloader = torch.utils.data.DataLoader(trainset, batch_size=batch_size,\n",
        "                                          shuffle=True, num_workers=1)\n",
        "\n",
        "testset = torchvision.datasets.CIFAR10(root='./data', train=False,\n",
        "                                       download=True, transform=transform)\n",
        "testloader = torch.utils.data.DataLoader(testset, batch_size=batch_size,\n",
        "                                         shuffle=False, num_workers=1)\n",
        "\n",
        "classes = ('plane', 'car', 'bird', 'cat',\n",
        "           'deer', 'dog', 'frog', 'horse', 'ship', 'truck')"
      ],
      "metadata": {
        "colab": {
          "base_uri": "https://localhost:8080/"
        },
        "collapsed": true,
        "id": "oQ44IVC_p4dv",
        "outputId": "14b87968-63b7-4d84-db39-db7fa2c73711"
      },
      "execution_count": 2,
      "outputs": [
        {
          "output_type": "stream",
          "name": "stdout",
          "text": [
            "Downloading https://www.cs.toronto.edu/~kriz/cifar-10-python.tar.gz to ./data/cifar-10-python.tar.gz\n"
          ]
        },
        {
          "output_type": "stream",
          "name": "stderr",
          "text": [
            "100%|██████████| 170M/170M [00:04<00:00, 42.1MB/s]\n"
          ]
        },
        {
          "output_type": "stream",
          "name": "stdout",
          "text": [
            "Extracting ./data/cifar-10-python.tar.gz to ./data\n",
            "Files already downloaded and verified\n"
          ]
        }
      ]
    },
    {
      "cell_type": "code",
      "source": [
        "# functions to show an image\n",
        "def imshow(img):\n",
        "    img = img / 2 + 0.5     # unnormalize\n",
        "    npimg = img.numpy()\n",
        "    plt.imshow(np.transpose(npimg, (1, 2, 0)))\n",
        "    plt.show()\n",
        "\n",
        "\n",
        "# get some random training images\n",
        "dataiter = iter(trainloader)\n",
        "images, labels = next(dataiter)\n",
        "\n",
        "# show images\n",
        "imshow(torchvision.utils.make_grid(images))\n",
        "# print labels\n",
        "print(' '.join(f'{classes[labels[j]]:5s}' for j in range(batch_size)))"
      ],
      "metadata": {
        "colab": {
          "base_uri": "https://localhost:8080/",
          "height": 211
        },
        "id": "zOkD8eBTqC-k",
        "outputId": "794e3dc8-6799-479f-d5ef-5cbf50e4a380"
      },
      "execution_count": 3,
      "outputs": [
        {
          "output_type": "display_data",
          "data": {
            "text/plain": [
              "<Figure size 640x480 with 1 Axes>"
            ],
            "image/png": "[encoded data removed]"
          },
          "metadata": {}
        },
        {
          "output_type": "stream",
          "name": "stdout",
          "text": [
            "cat   car   deer  ship \n"
          ]
        }
      ]
    },
    {
      "cell_type": "code",
      "source": [
        "class Net(nn.Module):\n",
        "    def __init__(self):\n",
        "        super().__init__()\n",
        "        self.conv1 = nn.Conv2d(3, 6, 5)\n",
        "        self.pool = nn.MaxPool2d(2, 2)\n",
        "        self.conv2 = nn.Conv2d(6, 16, 5)\n",
        "        self.fc1 = nn.Linear(16 * 5 * 5, 120) # essa e as próximas 2 camadas são totalmente conectadas\n",
        "        self.fc2 = nn.Linear(120, 84)\n",
        "        self.fc3 = nn.Linear(84, 10)\n",
        "\n",
        "    def forward(self, x):\n",
        "        x = self.pool(F.relu(self.conv1(x))) # [CONV - ATIV - POOL]\n",
        "        x = self.pool(F.relu(self.conv2(x)))\n",
        "        x = torch.flatten(x, 1) # flatten all dimensions except batch\n",
        "        x = F.relu(self.fc1(x))\n",
        "        x = F.relu(self.fc2(x))\n",
        "        x = self.fc3(x)\n",
        "        return x\n",
        "\n",
        "\n",
        "net = Net()\n",
        "\n",
        "criterion = nn.CrossEntropyLoss()\n",
        "optimizer = optim.SGD(net.parameters(), lr=0.001)"
      ],
      "metadata": {
        "id": "e7dJBMuxqZB3"
      },
      "execution_count": 12,
      "outputs": []
    },
    {
      "cell_type": "code",
      "source": [
        "for epoch in range(8):  # loop over the dataset multiple times\n",
        "\n",
        "    running_loss = 0.0\n",
        "    for i, data in enumerate(trainloader, 0):\n",
        "        # get the inputs; data is a list of [inputs, labels]\n",
        "        inputs, labels = data\n",
        "\n",
        "        # zero the parameter gradients\n",
        "        optimizer.zero_grad()\n",
        "\n",
        "        # forward + backward + optimize\n",
        "        outputs = net(inputs)\n",
        "        loss = criterion(outputs, labels)\n",
        "        loss.backward()\n",
        "        optimizer.step()\n",
        "\n",
        "        # print statistics\n",
        "        running_loss += loss.item()\n",
        "        if i % 2000 == 1999:    # print every 2000 mini-batches\n",
        "            print(f'[{epoch + 1}, {i + 1:5d}] perda: {running_loss / 2000:.3f}')\n",
        "            running_loss = 0.0\n",
        "\n",
        "print('Treinamento Concluído')"
      ],
      "metadata": {
        "colab": {
          "base_uri": "https://localhost:8080/"
        },
        "id": "PMXV6ueRqzmR",
        "outputId": "1e8e4128-4879-447d-ec01-d4d0985bba28"
      },
      "execution_count": 13,
      "outputs": [
        {
          "output_type": "stream",
          "name": "stdout",
          "text": [
            "[1,  2000] perda: 2.302\n",
            "[1,  4000] perda: 2.301\n",
            "[1,  6000] perda: 2.299\n",
            "[1,  8000] perda: 2.294\n",
            "[1, 10000] perda: 2.282\n",
            "[1, 12000] perda: 2.237\n",
            "[2,  2000] perda: 2.114\n",
            "[2,  4000] perda: 2.055\n",
            "[2,  6000] perda: 2.007\n",
            "[2,  8000] perda: 1.967\n",
            "[2, 10000] perda: 1.945\n",
            "[2, 12000] perda: 1.899\n",
            "[3,  2000] perda: 1.850\n",
            "[3,  4000] perda: 1.805\n",
            "[3,  6000] perda: 1.766\n",
            "[3,  8000] perda: 1.704\n",
            "[3, 10000] perda: 1.683\n",
            "[3, 12000] perda: 1.632\n",
            "[4,  2000] perda: 1.621\n",
            "[4,  4000] perda: 1.592\n",
            "[4,  6000] perda: 1.561\n",
            "[4,  8000] perda: 1.536\n",
            "[4, 10000] perda: 1.536\n",
            "[4, 12000] perda: 1.518\n",
            "[5,  2000] perda: 1.498\n",
            "[5,  4000] perda: 1.471\n",
            "[5,  6000] perda: 1.467\n",
            "[5,  8000] perda: 1.444\n",
            "[5, 10000] perda: 1.437\n",
            "[5, 12000] perda: 1.429\n",
            "[6,  2000] perda: 1.400\n",
            "[6,  4000] perda: 1.391\n",
            "[6,  6000] perda: 1.376\n",
            "[6,  8000] perda: 1.398\n",
            "[6, 10000] perda: 1.370\n",
            "[6, 12000] perda: 1.342\n",
            "[7,  2000] perda: 1.339\n",
            "[7,  4000] perda: 1.320\n",
            "[7,  6000] perda: 1.339\n",
            "[7,  8000] perda: 1.306\n",
            "[7, 10000] perda: 1.300\n",
            "[7, 12000] perda: 1.307\n",
            "[8,  2000] perda: 1.278\n",
            "[8,  4000] perda: 1.270\n",
            "[8,  6000] perda: 1.259\n",
            "[8,  8000] perda: 1.259\n",
            "[8, 10000] perda: 1.268\n",
            "[8, 12000] perda: 1.256\n",
            "Treinamento Concluído\n"
          ]
        }
      ]
    },
    {
      "cell_type": "code",
      "source": [
        "dataiter = iter(testloader)\n",
        "images, labels = next(dataiter)\n",
        "\n",
        "# print images\n",
        "imshow(torchvision.utils.make_grid(images))\n",
        "print('GroundTruth: ', ' '.join(f'{classes[labels[j]]:5s}' for j in range(4)))\n",
        "\n",
        "outputs = net(images)\n",
        "_, predicted = torch.max(outputs, 1)\n",
        "\n",
        "print('Predito: ', ' '.join(f'{classes[predicted[j]]:5s}'\n",
        "                              for j in range(4)))"
      ],
      "metadata": {
        "colab": {
          "base_uri": "https://localhost:8080/",
          "height": 229
        },
        "id": "5-HhDmSyv2xi",
        "outputId": "110609f3-e4d8-4303-b2d2-491ce77a5ba4"
      },
      "execution_count": 14,
      "outputs": [
        {
          "output_type": "display_data",
          "data": {
            "text/plain": [
              "<Figure size 640x480 with 1 Axes>"
            ],
            "image/png": "[encoded data removed]"
          },
          "metadata": {}
        },
        {
          "output_type": "stream",
          "name": "stdout",
          "text": [
            "GroundTruth:  cat   ship  ship  plane\n",
            "Predito:  cat   ship  car   plane\n"
          ]
        }
      ]
    },
    {
      "cell_type": "code",
      "source": [
        "correct = 0\n",
        "total = 0\n",
        "# since we're not training, we don't need to calculate the gradients for our outputs\n",
        "with torch.no_grad():\n",
        "    for data in testloader:\n",
        "        images, labels = data\n",
        "        # calculate outputs by running images through the network\n",
        "        outputs = net(images)\n",
        "        # the class with the highest energy is what we choose as prediction\n",
        "        _, predicted = torch.max(outputs.data, 1)\n",
        "        total += labels.size(0)\n",
        "        correct += (predicted == labels).sum().item()\n",
        "\n",
        "print(f'Precisão da rede nas 10000 imagens de teste: {100 * correct // total}%')"
      ],
      "metadata": {
        "colab": {
          "base_uri": "https://localhost:8080/"
        },
        "id": "Xs_n0u1swI2E",
        "outputId": "03649a3b-ffea-49c1-fb5e-3dd38f3fb527"
      },
      "execution_count": 17,
      "outputs": [
        {
          "output_type": "stream",
          "name": "stdout",
          "text": [
            "Precisão da rede nas 10000 imagens de teste: 56%\n"
          ]
        }
      ]
    },
    {
      "cell_type": "code",
      "source": [
        "# prepare to count predictions for each class\n",
        "correct_pred = {classname: 0 for classname in classes}\n",
        "total_pred = {classname: 0 for classname in classes}\n",
        "\n",
        "# again no gradients needed\n",
        "with torch.no_grad():\n",
        "    for data in testloader:\n",
        "        images, labels = data\n",
        "        outputs = net(images)\n",
        "        _, predictions = torch.max(outputs, 1)\n",
        "        # collect the correct predictions for each class\n",
        "        for label, prediction in zip(labels, predictions):\n",
        "            if label == prediction:\n",
        "                correct_pred[classes[label]] += 1\n",
        "            total_pred[classes[label]] += 1\n",
        "\n",
        "\n",
        "# print accuracy for each class\n",
        "for classname, correct_count in correct_pred.items():\n",
        "    accuracy = 100 * float(correct_count) / total_pred[classname]\n",
        "    print(f'Precisão para a classe: {classname:5s} é {accuracy:.1f}%')"
      ],
      "metadata": {
        "colab": {
          "base_uri": "https://localhost:8080/"
        },
        "id": "D8D68_K7wUJz",
        "outputId": "e1356a1f-dbd9-4c34-b209-60f9fbf0e57e"
      },
      "execution_count": 16,
      "outputs": [
        {
          "output_type": "stream",
          "name": "stdout",
          "text": [
            "Precisão para a classe: plane é 58.4%\n",
            "Precisão para a classe: car   é 73.1%\n",
            "Precisão para a classe: bird  é 38.0%\n",
            "Precisão para a classe: cat   é 41.2%\n",
            "Precisão para a classe: deer  é 41.6%\n",
            "Precisão para a classe: dog   é 53.2%\n",
            "Precisão para a classe: frog  é 65.1%\n",
            "Precisão para a classe: horse é 61.0%\n",
            "Precisão para a classe: ship  é 70.2%\n",
            "Precisão para a classe: truck é 60.2%\n"
          ]
        }
      ]
    }
  ]
}